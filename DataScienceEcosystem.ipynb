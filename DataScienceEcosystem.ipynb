{
 "cells": [
  {
   "cell_type": "markdown",
   "id": "62c70bf2-0bff-452f-a61a-884b0be1238e",
   "metadata": {},
   "source": [
    "****Data Science Tools and Ecosystem****"
   ]
  },
  {
   "cell_type": "markdown",
   "id": "e897a179-32b1-4b9d-880a-edd5b24ddb50",
   "metadata": {},
   "source": [
    "**In this notebook, Data Science Tools and Ecosystem are summarized.**"
   ]
  },
  {
   "cell_type": "markdown",
   "id": "6b4085af-4b0f-4d4a-abe3-d839c7770585",
   "metadata": {},
   "source": [
    "**Objectives:**  \n",
    "- List popular languages for Data Science.  \n",
    "- Identify commonly used libraries in Data Science.  \n",
    "- Summarize open-source Data Science tools.  \n",
    "- Demonstrate basic arithmetic operations in Python.  \n",
    "- Convert units (e.g., minutes to hours) programmatically.  "
   ]
  },
  {
   "cell_type": "markdown",
   "id": "00999fa6-00a2-41cd-9ed8-054fecfd768d",
   "metadata": {},
   "source": [
    "**Some of the popular languages that Data Scientists use are:**\n",
    "1. Python\n",
    "2. R\n",
    "3. SQL\n",
    "4. Scala\n",
    "5. Julia\n",
    "6. Java\n",
    "7. MATLAB\n",
    "   "
   ]
  },
  {
   "cell_type": "markdown",
   "id": "4a54d89b-cbc9-47e9-824d-52f396cdc13d",
   "metadata": {},
   "source": [
    "**Some of the commonly used libraries used by Data Scientists include:**\n",
    "1. Pandas\n",
    "2. NumPy\n",
    "3. Matplotlib\n",
    "4. Seaborn\n",
    "5. Plotly\n",
    "6. Scikit-learn\n",
    "7. Keras\n",
    "8. PyTorch"
   ]
  },
  {
   "cell_type": "markdown",
   "id": "294f8be1-3519-4b44-839b-19b2a7c95025",
   "metadata": {},
   "source": [
    "**Data Science Tools.**\n",
    "| Tool Name     | Type                      | Description                                      |\n",
    "|---------------|---------------------------|--------------------------------------------------|\n",
    "| JupyterLab     | Interactive Environment   | Web-based interface for notebooks, code, and data |\n",
    "| RStudio        | IDE for R                 | Popular IDE for statistical computing and graphics |\n",
    "| VS Code        | Source Code Editor        | Lightweight editor with rich extension support   |"
   ]
  },
  {
   "cell_type": "markdown",
   "id": "cdf2f521-6a0c-490c-b64e-5b4c2b0d8a70",
   "metadata": {},
   "source": [
    "### Below are a few examples of evaluating arithmetic expressions in Python\n",
    "\n",
    "You can use Python to perform basic arithmetic operations like addition, subtraction, multiplication, division, and more. Here are some examples:\n",
    "\n",
    "- 3 + 5 → *Addition*\n",
    "- 10 - 2 → *Subtraction*\n",
    "- 4 * 7 → *Multiplication*\n",
    "- 20 / 4 → *Division*\n",
    "- 2 ** 3 → *Exponentiation*\n",
    "- 10 % 3 → *Modulus*"
   ]
  },
  {
   "cell_type": "code",
   "execution_count": 1,
   "id": "658b01e3-ff0a-44d8-bbcd-b8128e5bbaad",
   "metadata": {},
   "outputs": [
    {
     "name": "stdout",
     "output_type": "stream",
     "text": [
      "17\n"
     ]
    }
   ],
   "source": [
    "# This a simple arithmetic expression to multiply then add integers.\n",
    "result = (3 * 4) + 5\n",
    "print(result)"
   ]
  },
  {
   "cell_type": "code",
   "execution_count": 2,
   "id": "3d834293-0587-432f-88cc-975d8f90d687",
   "metadata": {},
   "outputs": [
    {
     "name": "stdout",
     "output_type": "stream",
     "text": [
      "3.3333333333333335\n"
     ]
    }
   ],
   "source": [
    "# This will convert 200 minutes to hours by diving by 60.\n",
    "minutes = 200\n",
    "hours = minutes/60\n",
    "print(hours)"
   ]
  },
  {
   "cell_type": "markdown",
   "id": "df8ccd3c-84cf-47b0-b9b2-1e0355e8956d",
   "metadata": {},
   "source": [
    "## Author  \n",
    "[Mohammed Arfath]  "
   ]
  },
  {
   "cell_type": "code",
   "execution_count": null,
   "id": "37286bed-019f-402f-9ea5-9403aaec7896",
   "metadata": {},
   "outputs": [],
   "source": []
  }
 ],
 "metadata": {
  "kernelspec": {
   "display_name": "Python 3 (ipykernel)",
   "language": "python",
   "name": "python3"
  },
  "language_info": {
   "codemirror_mode": {
    "name": "ipython",
    "version": 3
   },
   "file_extension": ".py",
   "mimetype": "text/x-python",
   "name": "python",
   "nbconvert_exporter": "python",
   "pygments_lexer": "ipython3",
   "version": "3.12.8"
  }
 },
 "nbformat": 4,
 "nbformat_minor": 5
}
